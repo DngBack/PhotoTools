{
 "cells": [
  {
   "cell_type": "code",
   "execution_count": 1,
   "metadata": {},
   "outputs": [
    {
     "name": "stdout",
     "output_type": "stream",
     "text": [
      "Requirement already satisfied: gradio in /home/dngback/anaconda3/envs/alphii_phototools/lib/python3.10/site-packages (4.26.0)\n",
      "Requirement already satisfied: aiofiles<24.0,>=22.0 in /home/dngback/anaconda3/envs/alphii_phototools/lib/python3.10/site-packages (from gradio) (23.2.1)\n",
      "Requirement already satisfied: altair<6.0,>=4.2.0 in /home/dngback/anaconda3/envs/alphii_phototools/lib/python3.10/site-packages (from gradio) (5.3.0)\n",
      "Requirement already satisfied: fastapi in /home/dngback/anaconda3/envs/alphii_phototools/lib/python3.10/site-packages (from gradio) (0.110.1)\n",
      "Requirement already satisfied: ffmpy in /home/dngback/anaconda3/envs/alphii_phototools/lib/python3.10/site-packages (from gradio) (0.3.2)\n",
      "Requirement already satisfied: gradio-client==0.15.1 in /home/dngback/anaconda3/envs/alphii_phototools/lib/python3.10/site-packages (from gradio) (0.15.1)\n",
      "Requirement already satisfied: httpx>=0.24.1 in /home/dngback/anaconda3/envs/alphii_phototools/lib/python3.10/site-packages (from gradio) (0.27.0)\n",
      "Requirement already satisfied: huggingface-hub>=0.19.3 in /home/dngback/anaconda3/envs/alphii_phototools/lib/python3.10/site-packages (from gradio) (0.22.2)\n",
      "Requirement already satisfied: importlib-resources<7.0,>=1.3 in /home/dngback/anaconda3/envs/alphii_phototools/lib/python3.10/site-packages (from gradio) (6.4.0)\n",
      "Requirement already satisfied: jinja2<4.0 in /home/dngback/anaconda3/envs/alphii_phototools/lib/python3.10/site-packages (from gradio) (3.1.3)\n",
      "Requirement already satisfied: markupsafe~=2.0 in /home/dngback/anaconda3/envs/alphii_phototools/lib/python3.10/site-packages (from gradio) (2.1.5)\n",
      "Requirement already satisfied: matplotlib~=3.0 in /home/dngback/anaconda3/envs/alphii_phototools/lib/python3.10/site-packages (from gradio) (3.8.4)\n",
      "Requirement already satisfied: numpy~=1.0 in /home/dngback/anaconda3/envs/alphii_phototools/lib/python3.10/site-packages (from gradio) (1.26.4)\n",
      "Requirement already satisfied: orjson~=3.0 in /home/dngback/anaconda3/envs/alphii_phototools/lib/python3.10/site-packages (from gradio) (3.10.1)\n",
      "Requirement already satisfied: packaging in /home/dngback/anaconda3/envs/alphii_phototools/lib/python3.10/site-packages (from gradio) (24.0)\n",
      "Requirement already satisfied: pandas<3.0,>=1.0 in /home/dngback/anaconda3/envs/alphii_phototools/lib/python3.10/site-packages (from gradio) (2.2.2)\n",
      "Requirement already satisfied: pillow<11.0,>=8.0 in /home/dngback/anaconda3/envs/alphii_phototools/lib/python3.10/site-packages (from gradio) (10.3.0)\n",
      "Requirement already satisfied: pydantic>=2.0 in /home/dngback/anaconda3/envs/alphii_phototools/lib/python3.10/site-packages (from gradio) (2.7.0)\n",
      "Requirement already satisfied: pydub in /home/dngback/anaconda3/envs/alphii_phototools/lib/python3.10/site-packages (from gradio) (0.25.1)\n",
      "Requirement already satisfied: python-multipart>=0.0.9 in /home/dngback/anaconda3/envs/alphii_phototools/lib/python3.10/site-packages (from gradio) (0.0.9)\n",
      "Requirement already satisfied: pyyaml<7.0,>=5.0 in /home/dngback/anaconda3/envs/alphii_phototools/lib/python3.10/site-packages (from gradio) (6.0.1)\n",
      "Requirement already satisfied: ruff>=0.2.2 in /home/dngback/anaconda3/envs/alphii_phototools/lib/python3.10/site-packages (from gradio) (0.3.7)\n",
      "Requirement already satisfied: semantic-version~=2.0 in /home/dngback/anaconda3/envs/alphii_phototools/lib/python3.10/site-packages (from gradio) (2.10.0)\n",
      "Requirement already satisfied: tomlkit==0.12.0 in /home/dngback/anaconda3/envs/alphii_phototools/lib/python3.10/site-packages (from gradio) (0.12.0)\n",
      "Requirement already satisfied: typer<1.0,>=0.9 in /home/dngback/anaconda3/envs/alphii_phototools/lib/python3.10/site-packages (from typer[all]<1.0,>=0.9; sys_platform != \"emscripten\"->gradio) (0.12.3)\n",
      "Requirement already satisfied: typing-extensions~=4.0 in /home/dngback/anaconda3/envs/alphii_phototools/lib/python3.10/site-packages (from gradio) (4.11.0)\n",
      "Requirement already satisfied: uvicorn>=0.14.0 in /home/dngback/anaconda3/envs/alphii_phototools/lib/python3.10/site-packages (from gradio) (0.29.0)\n",
      "Requirement already satisfied: fsspec in /home/dngback/anaconda3/envs/alphii_phototools/lib/python3.10/site-packages (from gradio-client==0.15.1->gradio) (2024.3.1)\n",
      "Requirement already satisfied: websockets<12.0,>=10.0 in /home/dngback/anaconda3/envs/alphii_phototools/lib/python3.10/site-packages (from gradio-client==0.15.1->gradio) (11.0.3)\n",
      "Requirement already satisfied: jsonschema>=3.0 in /home/dngback/anaconda3/envs/alphii_phototools/lib/python3.10/site-packages (from altair<6.0,>=4.2.0->gradio) (4.21.1)\n",
      "Requirement already satisfied: toolz in /home/dngback/anaconda3/envs/alphii_phototools/lib/python3.10/site-packages (from altair<6.0,>=4.2.0->gradio) (0.12.1)\n",
      "Requirement already satisfied: anyio in /home/dngback/anaconda3/envs/alphii_phototools/lib/python3.10/site-packages (from httpx>=0.24.1->gradio) (4.3.0)\n",
      "Requirement already satisfied: certifi in /home/dngback/anaconda3/envs/alphii_phototools/lib/python3.10/site-packages (from httpx>=0.24.1->gradio) (2022.12.7)\n",
      "Requirement already satisfied: httpcore==1.* in /home/dngback/anaconda3/envs/alphii_phototools/lib/python3.10/site-packages (from httpx>=0.24.1->gradio) (1.0.5)\n",
      "Requirement already satisfied: idna in /home/dngback/anaconda3/envs/alphii_phototools/lib/python3.10/site-packages (from httpx>=0.24.1->gradio) (3.7)\n",
      "Requirement already satisfied: sniffio in /home/dngback/anaconda3/envs/alphii_phototools/lib/python3.10/site-packages (from httpx>=0.24.1->gradio) (1.3.1)\n",
      "Requirement already satisfied: h11<0.15,>=0.13 in /home/dngback/anaconda3/envs/alphii_phototools/lib/python3.10/site-packages (from httpcore==1.*->httpx>=0.24.1->gradio) (0.14.0)\n",
      "Requirement already satisfied: filelock in /home/dngback/anaconda3/envs/alphii_phototools/lib/python3.10/site-packages (from huggingface-hub>=0.19.3->gradio) (3.13.4)\n",
      "Requirement already satisfied: requests in /home/dngback/anaconda3/envs/alphii_phototools/lib/python3.10/site-packages (from huggingface-hub>=0.19.3->gradio) (2.31.0)\n",
      "Requirement already satisfied: tqdm>=4.42.1 in /home/dngback/anaconda3/envs/alphii_phototools/lib/python3.10/site-packages (from huggingface-hub>=0.19.3->gradio) (4.66.2)\n",
      "Requirement already satisfied: contourpy>=1.0.1 in /home/dngback/anaconda3/envs/alphii_phototools/lib/python3.10/site-packages (from matplotlib~=3.0->gradio) (1.2.1)\n",
      "Requirement already satisfied: cycler>=0.10 in /home/dngback/anaconda3/envs/alphii_phototools/lib/python3.10/site-packages (from matplotlib~=3.0->gradio) (0.10.0)\n",
      "Requirement already satisfied: fonttools>=4.22.0 in /home/dngback/anaconda3/envs/alphii_phototools/lib/python3.10/site-packages (from matplotlib~=3.0->gradio) (4.51.0)\n",
      "Requirement already satisfied: kiwisolver>=1.3.1 in /home/dngback/anaconda3/envs/alphii_phototools/lib/python3.10/site-packages (from matplotlib~=3.0->gradio) (1.3.2)\n",
      "Requirement already satisfied: pyparsing>=2.3.1 in /home/dngback/anaconda3/envs/alphii_phototools/lib/python3.10/site-packages (from matplotlib~=3.0->gradio) (2.4.7)\n",
      "Requirement already satisfied: python-dateutil>=2.7 in /home/dngback/anaconda3/envs/alphii_phototools/lib/python3.10/site-packages (from matplotlib~=3.0->gradio) (2.8.2)\n",
      "Requirement already satisfied: pytz>=2020.1 in /home/dngback/anaconda3/envs/alphii_phototools/lib/python3.10/site-packages (from pandas<3.0,>=1.0->gradio) (2024.1)\n",
      "Requirement already satisfied: tzdata>=2022.7 in /home/dngback/anaconda3/envs/alphii_phototools/lib/python3.10/site-packages (from pandas<3.0,>=1.0->gradio) (2024.1)\n",
      "Requirement already satisfied: annotated-types>=0.4.0 in /home/dngback/anaconda3/envs/alphii_phototools/lib/python3.10/site-packages (from pydantic>=2.0->gradio) (0.6.0)\n",
      "Requirement already satisfied: pydantic-core==2.18.1 in /home/dngback/anaconda3/envs/alphii_phototools/lib/python3.10/site-packages (from pydantic>=2.0->gradio) (2.18.1)\n",
      "Requirement already satisfied: click>=8.0.0 in /home/dngback/anaconda3/envs/alphii_phototools/lib/python3.10/site-packages (from typer<1.0,>=0.9->typer[all]<1.0,>=0.9; sys_platform != \"emscripten\"->gradio) (8.1.7)\n",
      "Requirement already satisfied: shellingham>=1.3.0 in /home/dngback/anaconda3/envs/alphii_phototools/lib/python3.10/site-packages (from typer<1.0,>=0.9->typer[all]<1.0,>=0.9; sys_platform != \"emscripten\"->gradio) (1.5.4)\n",
      "Requirement already satisfied: rich>=10.11.0 in /home/dngback/anaconda3/envs/alphii_phototools/lib/python3.10/site-packages (from typer<1.0,>=0.9->typer[all]<1.0,>=0.9; sys_platform != \"emscripten\"->gradio) (13.7.1)\n",
      "\u001b[33mWARNING: typer 0.12.3 does not provide the extra 'all'\u001b[0m\u001b[33m\n",
      "\u001b[0mRequirement already satisfied: starlette<0.38.0,>=0.37.2 in /home/dngback/anaconda3/envs/alphii_phototools/lib/python3.10/site-packages (from fastapi->gradio) (0.37.2)\n",
      "Requirement already satisfied: six in /home/dngback/anaconda3/envs/alphii_phototools/lib/python3.10/site-packages (from cycler>=0.10->matplotlib~=3.0->gradio) (1.16.0)\n",
      "Requirement already satisfied: attrs>=22.2.0 in /home/dngback/anaconda3/envs/alphii_phototools/lib/python3.10/site-packages (from jsonschema>=3.0->altair<6.0,>=4.2.0->gradio) (23.2.0)\n",
      "Requirement already satisfied: jsonschema-specifications>=2023.03.6 in /home/dngback/anaconda3/envs/alphii_phototools/lib/python3.10/site-packages (from jsonschema>=3.0->altair<6.0,>=4.2.0->gradio) (2023.12.1)\n",
      "Requirement already satisfied: referencing>=0.28.4 in /home/dngback/anaconda3/envs/alphii_phototools/lib/python3.10/site-packages (from jsonschema>=3.0->altair<6.0,>=4.2.0->gradio) (0.34.0)\n",
      "Requirement already satisfied: rpds-py>=0.7.1 in /home/dngback/anaconda3/envs/alphii_phototools/lib/python3.10/site-packages (from jsonschema>=3.0->altair<6.0,>=4.2.0->gradio) (0.18.0)\n",
      "Requirement already satisfied: markdown-it-py>=2.2.0 in /home/dngback/anaconda3/envs/alphii_phototools/lib/python3.10/site-packages (from rich>=10.11.0->typer<1.0,>=0.9->typer[all]<1.0,>=0.9; sys_platform != \"emscripten\"->gradio) (3.0.0)\n",
      "Requirement already satisfied: pygments<3.0.0,>=2.13.0 in /home/dngback/anaconda3/envs/alphii_phototools/lib/python3.10/site-packages (from rich>=10.11.0->typer<1.0,>=0.9->typer[all]<1.0,>=0.9; sys_platform != \"emscripten\"->gradio) (2.17.2)\n",
      "Requirement already satisfied: exceptiongroup>=1.0.2 in /home/dngback/anaconda3/envs/alphii_phototools/lib/python3.10/site-packages (from anyio->httpx>=0.24.1->gradio) (1.2.0)\n",
      "Requirement already satisfied: charset-normalizer<4,>=2 in /home/dngback/anaconda3/envs/alphii_phototools/lib/python3.10/site-packages (from requests->huggingface-hub>=0.19.3->gradio) (3.3.2)\n",
      "Requirement already satisfied: urllib3<3,>=1.21.1 in /home/dngback/anaconda3/envs/alphii_phototools/lib/python3.10/site-packages (from requests->huggingface-hub>=0.19.3->gradio) (2.2.1)\n",
      "Requirement already satisfied: mdurl~=0.1 in /home/dngback/anaconda3/envs/alphii_phototools/lib/python3.10/site-packages (from markdown-it-py>=2.2.0->rich>=10.11.0->typer<1.0,>=0.9->typer[all]<1.0,>=0.9; sys_platform != \"emscripten\"->gradio) (0.1.2)\n"
     ]
    }
   ],
   "source": [
    "!pip install gradio"
   ]
  },
  {
   "cell_type": "code",
   "execution_count": 4,
   "metadata": {},
   "outputs": [
    {
     "name": "stderr",
     "output_type": "stream",
     "text": [
      "usage: ipykernel_launcher.py [-h] [-p PROMPT] [-n NEGATIVE_PROMPT]\n",
      "                             [--input_path INPUT_PATH]\n",
      "                             [--output_path OUTPUT_PATH]\n",
      "                             [--mask_path MASK_PATH]\n",
      "ipykernel_launcher.py: error: unrecognized arguments: --f=/home/dngback/.local/share/jupyter/runtime/kernel-v2-7872agpTU8PFIpNE.json\n"
     ]
    },
    {
     "ename": "SystemExit",
     "evalue": "2",
     "output_type": "error",
     "traceback": [
      "An exception has occurred, use %tb to see the full traceback.\n",
      "\u001b[0;31mSystemExit\u001b[0m\u001b[0;31m:\u001b[0m 2\n"
     ]
    }
   ],
   "source": [
    "from PIL import Image\n",
    "import gradio as gr\n",
    "from module import bgChanging\n",
    "\n",
    "title = \"\"\"Test Demo\"\"\"\n",
    "description = \"\"\"Give your image and write prompt\"\"\"\n",
    "\n",
    "demo = gr.Interface(fn=bgChanging, \n",
    "                    inputs=[gr.Image(label=\"Input image\", type='pil'), gr.Textbox(label=\"Enter Prompt\"), gr.Textbox(label=\"Enter Negative Prompt\")], \n",
    "                    outputs=gr.Image(type='pil'),\n",
    "                    title = title, description = description).launch(debug='True')\n"
   ]
  }
 ],
 "metadata": {
  "kernelspec": {
   "display_name": "alphii_phototools",
   "language": "python",
   "name": "python3"
  },
  "language_info": {
   "codemirror_mode": {
    "name": "ipython",
    "version": 3
   },
   "file_extension": ".py",
   "mimetype": "text/x-python",
   "name": "python",
   "nbconvert_exporter": "python",
   "pygments_lexer": "ipython3",
   "version": "3.10.14"
  }
 },
 "nbformat": 4,
 "nbformat_minor": 2
}
